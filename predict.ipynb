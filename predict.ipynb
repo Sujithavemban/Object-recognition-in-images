{
 "cells": [
  {
   "cell_type": "code",
   "execution_count": 5,
   "metadata": {},
   "outputs": [
    {
     "name": "stdout",
     "output_type": "stream",
     "text": [
      "[1]\n",
      "[1]\n"
     ]
    }
   ],
   "source": [
    "import numpy as np\n",
    "from keras.preprocessing import image\n",
    "\n",
    "from tkinter import *\n",
    "from PIL import ImageTk, Image\n",
    "from tkinter import filedialog\n",
    "import os\n",
    "from keras.models import load_model\n",
    "classifier = load_model('project.h5')\n",
    "classifier.compile(optimizer = 'adam', loss = 'categorical_crossentropy', metrics = ['accuracy'])\n",
    "root = Tk()\n",
    "root.geometry(\"550x300+300+150\")\n",
    "root.resizable(width=True, height=True)\n",
    "\n",
    "def openfn():\n",
    "    filename = filedialog.askopenfilename(title='open')\n",
    "    return filename\n",
    "def open_img():\n",
    "    x = openfn()\n",
    "    test_image = image.load_img(x, target_size = (64, 64))\n",
    "    test_image = image.img_to_array(test_image)\n",
    "    test_image = np.expand_dims(test_image, axis = 0)\n",
    "    result = classifier.predict_classes(test_image)\n",
    "    print(result)\n",
    "    index=['bags_images','books_images','bottles_images','pens_images']\n",
    "    label = Label( root, text=\"Prediction : \"+index[result[0]])\n",
    "    label.pack()\n",
    "    img = Image.open(x)\n",
    "    img = img.resize((250,250), Image.ANTIALIAS)\n",
    "    img = ImageTk.PhotoImage(img)\n",
    "    panel = Label(root, image=img)\n",
    "    panel.image = img\n",
    "    panel.pack()\n",
    "    if( result == [0]):\n",
    "        label = Label( root, text=\"bags    \")\n",
    "        label.pack()\n",
    "    elif( result == [1]):\n",
    "        label = Label( root, text=\"books   \")\n",
    "        label.pack()\n",
    "    elif( result == [2]):\n",
    "        label = Label( root, text=\"bottles    \")\n",
    "        label.pack()\n",
    "    else:\n",
    "        label = Label( root, text=\"pens   \")\n",
    "        label.pack()\n",
    "    \n",
    "        \n",
    "        \n",
    "        \n",
    "        \n",
    "    \n",
    "btn = Button(root, text='open image', command=open_img).pack()\n",
    "\n",
    "root.mainloop()"
   ]
  },
  {
   "cell_type": "code",
   "execution_count": null,
   "metadata": {},
   "outputs": [],
   "source": []
  },
  {
   "cell_type": "code",
   "execution_count": null,
   "metadata": {},
   "outputs": [],
   "source": []
  }
 ],
 "metadata": {
  "kernelspec": {
   "display_name": "Python 3",
   "language": "python",
   "name": "python3"
  },
  "language_info": {
   "codemirror_mode": {
    "name": "ipython",
    "version": 3
   },
   "file_extension": ".py",
   "mimetype": "text/x-python",
   "name": "python",
   "nbconvert_exporter": "python",
   "pygments_lexer": "ipython3",
   "version": "3.7.3"
  }
 },
 "nbformat": 4,
 "nbformat_minor": 2
}
